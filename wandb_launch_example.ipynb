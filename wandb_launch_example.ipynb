{
 "cells": [
  {
   "cell_type": "markdown",
   "id": "938794d7-0937-4ccb-8e26-5c3a70af7512",
   "metadata": {},
   "source": [
    "<h1>Launching W&B runs on Amazon SageMaker Training, using W&B launch</h1>"
   ]
  },
  {
   "cell_type": "code",
   "execution_count": 1,
   "id": "9615a796-f48f-44c9-b16b-51c8acbea391",
   "metadata": {
    "scrolled": true,
    "tags": []
   },
   "outputs": [
    {
     "name": "stdout",
     "output_type": "stream",
     "text": [
      "Looking in indexes: https://pypi.org/simple, https://pip.repos.neuron.amazonaws.com\n",
      "Collecting wandb\n",
      "  Downloading wandb-0.12.21-py2.py3-none-any.whl (1.8 MB)\n",
      "\u001b[2K     \u001b[90m━━━━━━━━━━━━━━━━━━━━━━━━━━━━━━━━━━━━━━━━\u001b[0m \u001b[32m1.8/1.8 MB\u001b[0m \u001b[31m17.0 MB/s\u001b[0m eta \u001b[36m0:00:00\u001b[0m00:01\u001b[0m\n",
      "\u001b[?25hCollecting shortuuid>=0.5.0\n",
      "  Downloading shortuuid-1.0.9-py3-none-any.whl (9.4 kB)\n",
      "Requirement already satisfied: six>=1.13.0 in /home/ec2-user/anaconda3/envs/python3/lib/python3.8/site-packages (from wandb) (1.16.0)\n",
      "Requirement already satisfied: protobuf<4.0dev,>=3.12.0 in /home/ec2-user/anaconda3/envs/python3/lib/python3.8/site-packages (from wandb) (3.19.1)\n",
      "Collecting pathtools\n",
      "  Downloading pathtools-0.1.2.tar.gz (11 kB)\n",
      "  Preparing metadata (setup.py) ... \u001b[?25ldone\n",
      "\u001b[?25hCollecting docker-pycreds>=0.4.0\n",
      "  Downloading docker_pycreds-0.4.0-py2.py3-none-any.whl (9.0 kB)\n",
      "Collecting promise<3,>=2.0\n",
      "  Downloading promise-2.3.tar.gz (19 kB)\n",
      "  Preparing metadata (setup.py) ... \u001b[?25ldone\n",
      "\u001b[?25hCollecting setproctitle\n",
      "  Downloading setproctitle-1.2.3-cp38-cp38-manylinux_2_5_x86_64.manylinux1_x86_64.manylinux_2_17_x86_64.manylinux2014_x86_64.whl (29 kB)\n",
      "Collecting GitPython>=1.0.0\n",
      "  Using cached GitPython-3.1.27-py3-none-any.whl (181 kB)\n",
      "Requirement already satisfied: setuptools in /home/ec2-user/anaconda3/envs/python3/lib/python3.8/site-packages (from wandb) (59.4.0)\n",
      "Requirement already satisfied: PyYAML in /home/ec2-user/anaconda3/envs/python3/lib/python3.8/site-packages (from wandb) (5.4.1)\n",
      "Collecting sentry-sdk>=1.0.0\n",
      "  Downloading sentry_sdk-1.7.1-py2.py3-none-any.whl (146 kB)\n",
      "\u001b[2K     \u001b[90m━━━━━━━━━━━━━━━━━━━━━━━━━━━━━━━━━━━━━━\u001b[0m \u001b[32m146.4/146.4 KB\u001b[0m \u001b[31m35.5 MB/s\u001b[0m eta \u001b[36m0:00:00\u001b[0m\n",
      "\u001b[?25hRequirement already satisfied: Click!=8.0.0,>=7.0 in /home/ec2-user/anaconda3/envs/python3/lib/python3.8/site-packages (from wandb) (8.0.3)\n",
      "Requirement already satisfied: requests<3,>=2.0.0 in /home/ec2-user/anaconda3/envs/python3/lib/python3.8/site-packages (from wandb) (2.26.0)\n",
      "Requirement already satisfied: psutil>=5.0.0 in /home/ec2-user/anaconda3/envs/python3/lib/python3.8/site-packages (from wandb) (5.8.0)\n",
      "Collecting gitdb<5,>=4.0.1\n",
      "  Using cached gitdb-4.0.9-py3-none-any.whl (63 kB)\n",
      "Requirement already satisfied: urllib3<1.27,>=1.21.1 in /home/ec2-user/anaconda3/envs/python3/lib/python3.8/site-packages (from requests<3,>=2.0.0->wandb) (1.26.8)\n",
      "Requirement already satisfied: certifi>=2017.4.17 in /home/ec2-user/anaconda3/envs/python3/lib/python3.8/site-packages (from requests<3,>=2.0.0->wandb) (2021.10.8)\n",
      "Requirement already satisfied: charset-normalizer~=2.0.0 in /home/ec2-user/anaconda3/envs/python3/lib/python3.8/site-packages (from requests<3,>=2.0.0->wandb) (2.0.8)\n",
      "Requirement already satisfied: idna<4,>=2.5 in /home/ec2-user/anaconda3/envs/python3/lib/python3.8/site-packages (from requests<3,>=2.0.0->wandb) (3.1)\n",
      "Collecting smmap<6,>=3.0.1\n",
      "  Using cached smmap-5.0.0-py3-none-any.whl (24 kB)\n",
      "Building wheels for collected packages: promise, pathtools\n",
      "  Building wheel for promise (setup.py) ... \u001b[?25ldone\n",
      "\u001b[?25h  Created wheel for promise: filename=promise-2.3-py3-none-any.whl size=21502 sha256=68738aabc34b0e4ac75c2e6a91797273194c2b99961041509da29b015d727d5f\n",
      "  Stored in directory: /home/ec2-user/.cache/pip/wheels/54/aa/01/724885182f93150035a2a91bce34a12877e8067a97baaf5dc8\n",
      "  Building wheel for pathtools (setup.py) ... \u001b[?25ldone\n",
      "\u001b[?25h  Created wheel for pathtools: filename=pathtools-0.1.2-py3-none-any.whl size=8807 sha256=cfa4036cc2d8ed7a30e542b53853d55eac1382d08cf900aba92c32cb307f75bc\n",
      "  Stored in directory: /home/ec2-user/.cache/pip/wheels/4c/8e/7e/72fbc243e1aeecae64a96875432e70d4e92f3d2d18123be004\n",
      "Successfully built promise pathtools\n",
      "Installing collected packages: pathtools, smmap, shortuuid, setproctitle, sentry-sdk, promise, docker-pycreds, gitdb, GitPython, wandb\n",
      "Successfully installed GitPython-3.1.27 docker-pycreds-0.4.0 gitdb-4.0.9 pathtools-0.1.2 promise-2.3 sentry-sdk-1.7.1 setproctitle-1.2.3 shortuuid-1.0.9 smmap-5.0.0 wandb-0.12.21\n",
      "\u001b[33mWARNING: You are using pip version 22.0.4; however, version 22.1.2 is available.\n",
      "You should consider upgrading via the '/home/ec2-user/anaconda3/envs/python3/bin/python -m pip install --upgrade pip' command.\u001b[0m\u001b[33m\n",
      "\u001b[0m"
     ]
    }
   ],
   "source": [
    "!pip install --upgrade wandb"
   ]
  },
  {
   "cell_type": "code",
   "execution_count": 10,
   "id": "65e9b032-cb85-4197-8d80-0f84c5573cf9",
   "metadata": {},
   "outputs": [
    {
     "name": "stdout",
     "output_type": "stream",
     "text": [
      "\u001b[34m\u001b[1mwandb\u001b[0m: Currently logged in as: \u001b[33mgianpo\u001b[0m (\u001b[33mgianpo-team\u001b[0m). Use \u001b[1m`wandb login --relogin`\u001b[0m to force relogin\n",
      "\u001b[34m\u001b[1mwandb\u001b[0m: Tracking run with wandb version 0.12.21\n",
      "\u001b[34m\u001b[1mwandb\u001b[0m: Run data is saved locally in \u001b[35m\u001b[1m/home/ec2-user/SageMaker/sagemaker-wandb/wandb/run-20220714_140540-3qw34djm\u001b[0m\n",
      "\u001b[34m\u001b[1mwandb\u001b[0m: Run \u001b[1m`wandb offline`\u001b[0m to turn off syncing.\n",
      "\u001b[34m\u001b[1mwandb\u001b[0m: Syncing run \u001b[33mrose-frog-2\u001b[0m\n",
      "\u001b[34m\u001b[1mwandb\u001b[0m: ⭐️ View project at \u001b[34m\u001b[4mhttps://wandb.ai/gianpo-team/sagemaker-wandb\u001b[0m\n",
      "\u001b[34m\u001b[1mwandb\u001b[0m: 🚀 View run at \u001b[34m\u001b[4mhttps://wandb.ai/gianpo-team/sagemaker-wandb/runs/3qw34djm\u001b[0m\n",
      "\u001b[34m\u001b[1mwandb\u001b[0m: Waiting for W&B process to finish... \u001b[32m(success).\u001b[0m\n",
      "\u001b[34m\u001b[1mwandb\u001b[0m:                                                                                \n",
      "\u001b[34m\u001b[1mwandb\u001b[0m: \n",
      "\u001b[34m\u001b[1mwandb\u001b[0m: Run history:\n",
      "\u001b[34m\u001b[1mwandb\u001b[0m: metric ▁▁▁▁▂▂▂▂▂▃▃▃▃▃▃▄▄▄▄▄▅▅▅▅▅▅▆▆▆▆▆▇▇▇▇▇▇███\n",
      "\u001b[34m\u001b[1mwandb\u001b[0m: \n",
      "\u001b[34m\u001b[1mwandb\u001b[0m: Run summary:\n",
      "\u001b[34m\u001b[1mwandb\u001b[0m: metric 99\n",
      "\u001b[34m\u001b[1mwandb\u001b[0m: \n",
      "\u001b[34m\u001b[1mwandb\u001b[0m: Synced \u001b[33mrose-frog-2\u001b[0m: \u001b[34m\u001b[4mhttps://wandb.ai/gianpo-team/sagemaker-wandb/runs/3qw34djm\u001b[0m\n",
      "\u001b[34m\u001b[1mwandb\u001b[0m: Synced 4 W&B file(s), 0 media file(s), 0 artifact file(s) and 0 other file(s)\n",
      "\u001b[34m\u001b[1mwandb\u001b[0m: Find logs at: \u001b[35m\u001b[1m./wandb/run-20220714_140540-3qw34djm/logs\u001b[0m\n"
     ]
    }
   ],
   "source": [
    "!python /home/ec2-user/SageMaker/sagemaker-wandb/main.py"
   ]
  },
  {
   "cell_type": "code",
   "execution_count": 29,
   "id": "67415472-6dc5-4032-be4b-e6a33aca76ea",
   "metadata": {},
   "outputs": [
    {
     "name": "stdout",
     "output_type": "stream",
     "text": [
      "Overwriting resource_args.json\n"
     ]
    }
   ],
   "source": [
    "%%writefile resource_args.json\n",
    "\n",
    "{\n",
    "    \"sagemaker\": {\n",
    "        \"EcrRepoName\": \"wandb-containers\",\n",
    "        \"OutputDataConfig\": {\n",
    "            \"S3OutputPath\": \"s3://gianpo/wandb_launch_output/\"\n",
    "        },\n",
    "        \"ResourceConfig\": {\n",
    "            \"InstanceCount\": 1,\n",
    "            \"InstanceType\": \"ml.t3.medium\"\n",
    "        },\n",
    "        \"StoppingCondition\": {\n",
    "            \"MaxRuntimeInSeconds\": 96400\n",
    "        },\n",
    "        \"RoleArn\": \"arn:aws:iam::825935527263:role/service-role/AmazonSageMaker-ExecutionRole-endtoendml\"\n",
    "    }\n",
    "}"
   ]
  },
  {
   "cell_type": "code",
   "execution_count": 31,
   "id": "cfe20dd9-0467-4234-b067-4e4b06ad77d9",
   "metadata": {},
   "outputs": [
    {
     "name": "stdout",
     "output_type": "stream",
     "text": [
      "\u001b[34m\u001b[1mwandb\u001b[0m: W&B launch is in an experimental state and usage APIs may change without warning. See https://wandb.me/launch\n",
      "\u001b[34m\u001b[1mwandb\u001b[0m: Launching run into gianpo-team/sagemaker-wandb\n",
      "\u001b[34m\u001b[1mwandb\u001b[0m: Original wandb run 3qw34djm was run with cuda version 11.0. Enabling cuda builds by default; to build on a CPU-only image, run again with --cuda=False\n",
      "Entrypoint file: main.py does not exist, and could not be downloaded. Please specify the entrypoint for this run.\n"
     ]
    }
   ],
   "source": [
    "!wandb launch https://wandb.ai/gianpo-team/sagemaker-wandb/runs/3qw34djm --resource sagemaker --resource-args resource_args.json"
   ]
  },
  {
   "cell_type": "code",
   "execution_count": 21,
   "id": "4d41bfa6-39be-4f5a-b652-554360fc4cff",
   "metadata": {},
   "outputs": [
    {
     "name": "stdout",
     "output_type": "stream",
     "text": [
      "Usage: wandb launch [OPTIONS] [URI]\n",
      "\n",
      "  Launch or queue a job from a uri (Experimental). A uri can be either a wandb\n",
      "  uri of the form https://wandb.ai/<entity>/<project>/runs/<run_id>, or a git\n",
      "  uri pointing to a remote repository, or path to a local directory.\n",
      "\n",
      "Options:\n",
      "  -E, --entry-point NAME          Entry point within project. [default: main].\n",
      "                                  If the entry point is not found, attempts to\n",
      "                                  run the project file with the specified name\n",
      "                                  as a script, using 'python' to run .py files\n",
      "                                  and the default shell (specified by\n",
      "                                  environment variable $SHELL) to run .sh\n",
      "                                  files. If passed in, will override the\n",
      "                                  entrypoint value passed in using a config\n",
      "                                  file.\n",
      "  -g, --git-version GIT-VERSION   Version of the project to run, as a Git\n",
      "                                  commit reference for Git projects.\n",
      "  -a, --args-list NAME=VALUE      An argument for the run, of the form -a\n",
      "                                  name=value. Provided arguments that are not\n",
      "                                  in the list of arguments for an entry point\n",
      "                                  will be passed to the corresponding entry\n",
      "                                  point as command-line arguments in the form\n",
      "                                  `--name value`\n",
      "  --name TEXT                     Name of the run under which to launch the\n",
      "                                  run. If not specified, a random run name\n",
      "                                  will be used to launch run. If passed in,\n",
      "                                  will override the name passed in using a\n",
      "                                  config file.\n",
      "  -e, --entity <str>              Name of the target entity which the new run\n",
      "                                  will be sent to. Defaults to using the\n",
      "                                  entity set by local wandb/settings folder.If\n",
      "                                  passed in, will override the entity value\n",
      "                                  passed in using a config file.\n",
      "  -p, --project <str>             Name of the target project which the new run\n",
      "                                  will be sent to. Defaults to using the\n",
      "                                  project name given by the source uri or for\n",
      "                                  github runs, the git repo name. If passed\n",
      "                                  in, will override the project value passed\n",
      "                                  in using a config file.\n",
      "  -r, --resource BACKEND          Execution resource to use for run. Supported\n",
      "                                  values: 'local'. If passed in, will override\n",
      "                                  the resource value passed in using a config\n",
      "                                  file. Defaults to 'local'.\n",
      "  -d, --docker-image DOCKER IMAGE\n",
      "                                  Specific docker image you'd like to use. In\n",
      "                                  the form name:tag. If passed in, will\n",
      "                                  override the docker image value passed in\n",
      "                                  using a config file.\n",
      "  -c, --config FILE               Path to JSON file (must end in '.json') or\n",
      "                                  JSON string which will be passed as a launch\n",
      "                                  config. Dictation how the launched run will\n",
      "                                  be configured.\n",
      "  -q, --queue TEXT                Name of run queue to push to. If none,\n",
      "                                  launches single run directly. If supplied\n",
      "                                  without an argument (`--queue`), defaults to\n",
      "                                  queue 'default'. Else, if name supplied,\n",
      "                                  specified run queue must exist under the\n",
      "                                  project and entity supplied.\n",
      "  --async                         Flag to run the job asynchronously. Defaults\n",
      "                                  to false, i.e. unless --async is set, wandb\n",
      "                                  launch will wait for the job to finish. This\n",
      "                                  option is incompatible with --queue;\n",
      "                                  asynchronous options when running with an\n",
      "                                  agent should be set on wandb launch-agent.\n",
      "  -R, --resource-args FILE        Path to JSON file (must end in '.json') or\n",
      "                                  JSON string which will be passed as resource\n",
      "                                  args to the compute resource. The exact\n",
      "                                  content which should be provided is\n",
      "                                  different for each execution backend. See\n",
      "                                  documentation for layout of this file.\n",
      "  --cuda TEXT                     Flag to build an image with CUDA enabled. If\n",
      "                                  reproducing a previous wandb run that ran on\n",
      "                                  GPU, a CUDA-enabled image will be built by\n",
      "                                  default and you must set --cuda=False to\n",
      "                                  build a CPU-only image.\n",
      "  --help                          Show this message and exit.\n"
     ]
    }
   ],
   "source": [
    "!wandb launch --help"
   ]
  },
  {
   "cell_type": "code",
   "execution_count": null,
   "id": "4c43fbab-0d62-46c3-bceb-4030a7bec982",
   "metadata": {},
   "outputs": [],
   "source": []
  }
 ],
 "metadata": {
  "kernelspec": {
   "display_name": "conda_python3",
   "language": "python",
   "name": "conda_python3"
  },
  "language_info": {
   "codemirror_mode": {
    "name": "ipython",
    "version": 3
   },
   "file_extension": ".py",
   "mimetype": "text/x-python",
   "name": "python",
   "nbconvert_exporter": "python",
   "pygments_lexer": "ipython3",
   "version": "3.8.12"
  }
 },
 "nbformat": 4,
 "nbformat_minor": 5
}
